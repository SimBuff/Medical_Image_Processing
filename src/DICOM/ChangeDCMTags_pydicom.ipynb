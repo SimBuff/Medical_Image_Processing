{
 "cells": [
  {
   "cell_type": "code",
   "execution_count": null,
   "metadata": {},
   "outputs": [],
   "source": [
    "## if pydicom and itk have not been intalled, run the cell\n",
    "!pip install pydicom\n",
    "!pip install itk\n",
    "!pip install tqdm"
   ]
  },
  {
   "cell_type": "markdown",
   "metadata": {},
   "source": [
    "### Description:\n",
    "This document loop through the folder that contains multiple DICOM subjects and change the tags in each subject. Then the modified version of DICOM is stored in a specified folder."
   ]
  },
  {
   "cell_type": "code",
   "execution_count": 5,
   "metadata": {},
   "outputs": [],
   "source": [
    "import itk\n",
    "import numpy as np\n",
    "import os\n",
    "import re\n",
    "import pydicom\n",
    "import itk\n",
    "import zipfile\n",
    "import gzip\n",
    "import shutil"
   ]
  },
  {
   "cell_type": "code",
   "execution_count": 4,
   "metadata": {},
   "outputs": [
    {
     "data": {
      "text/plain": [
       "'C:\\\\Users\\\\chunr\\\\OneDrive - University of Iowa\\\\SPIROMICS_DICOM2Nifti'"
      ]
     },
     "execution_count": 4,
     "metadata": {},
     "output_type": "execute_result"
    }
   ],
   "source": [
    "os.getcwd()"
   ]
  },
  {
   "cell_type": "code",
   "execution_count": 6,
   "metadata": {},
   "outputs": [],
   "source": [
    "# Input Folder structure should be\n",
    "#./folderOfAllDicoms\n",
    "#       /folder_of_dicoms_subject1\n",
    "#       /folder_of_dicoms_subject2\n",
    "#       .......\n",
    "#OR\n",
    "#./folderOfAllDicoms\n",
    "#       /zipfile_of_dicoms_subject1\n",
    "#       /zipfile_of_dicoms_subject2\n",
    "#      .......\n",
    "\n",
    "folderOfAllDicoms    = \"E:\\\\SPIROMICS_DATA\\\\SPIROMICS_V1\\\\TLC\"\n",
    "folder2WriteDicoms   = \"D:\\\\SPIROMICS_DATA\\SPIROMICS_V1\\\\TLC\"\n",
    "TempFolders = \"D:\\\\SPIROMICS_DATA\\\\Temp\"\n",
    "\n",
    "## The tags below do not contain private patient information besides 'PatientID', 'PatientName'. 'PatientID' and 'PatientName' are\n",
    "## checked to have format as \"WF123000\" and \"H-123456\" in the code, otherwise they are removed.\n",
    "key2keep = ['AccessionNumber', 'AcquisitionDate', 'AcquisitionNumber', 'AcquisitionTime','BitsAllocated', 'BitsStored', \n",
    "            'Columns', 'ContentDate', 'ContentTime', 'ConvolutionKernel', 'DataCollectionDiameter', 'DistanceSourceToDetector', \n",
    "            'DistanceSourceToPatient', 'Exposure', 'ExposureTime', 'FilterType', 'FocalSpots', 'FrameOfReferenceUID', \n",
    "            'GantryDetectorTilt', 'GeneratorPower', 'HighBit', 'ImageOrientationPatient', 'ImagePositionPatient', 'ImageType', \n",
    "            'InstanceCreationDate', 'InstanceCreationTime', 'InstanceNumber','PatientID', 'PatientName', 'PatientPosition', \n",
    "            'PixelData', 'PixelPaddingValue', 'PixelRepresentation', 'PixelSpacing', 'PositionReferenceIndicator', \n",
    "            'ProtocolName', 'ReconstructionDiameter', 'ReferencedImageSequence', 'RescaleIntercept', 'RescaleSlope',\n",
    "            'RescaleType', 'RevolutionTime', 'RotationDirection', 'Rows', 'SOPClassUID', 'SOPInstanceUID', 'SamplesPerPixel', \n",
    "            'SeriesDate', 'SeriesDescription', 'SeriesInstanceUID', 'SeriesNumber', 'SeriesTime', 'SingleCollimationWidth', \n",
    "            'SliceLocation', 'SliceThickness',  'StudyDate', 'StudyDescription', 'StudyInstanceUID', 'StudyTime', \n",
    "            'TableFeedPerRotation', 'TableHeight', 'TableSpeed', 'TotalCollimationWidth', 'WindowCenter', 'WindowWidth', \n",
    "            'XRayTubeCurrent']"
   ]
  },
  {
   "cell_type": "code",
   "execution_count": null,
   "metadata": {
    "scrolled": true
   },
   "outputs": [],
   "source": [
    "## Loop over all dicom folders and dicom zip files\n",
    "for fileAndFolder in os.listdir(folderOfAllDicoms):\n",
    "    inputDicomFolder = \"\"\n",
    "    outputDicomFolder = \"\"\n",
    "    \n",
    "    ## if fileAndFolder is a folder \n",
    "    if os.path.isdir(os.path.join(folderOfAllDicoms,fileAndFolder)):\n",
    "        inputDicomFolder = os.path.join(folderOfAllDicoms,fileAndFolder)\n",
    "        outputDicomFolder = os.path.join(folder2WriteDicoms,fileAndFolder)\n",
    "        if os.path.isdir(outputDicomFolder):\n",
    "            print(outputDicomFolder+\" already exist!!\")\n",
    "            continue\n",
    "            \n",
    "    ## if fileAndFolder is a zip file\n",
    "    if os.path.isfile(os.path.join(folderOfAllDicoms,fileAndFolder)):\n",
    "        outputDicomFolder = os.path.join(folder2WriteDicoms,os.path.splitext(fileAndFolder)[0])\n",
    "        if os.path.isdir(outputDicomFolder):\n",
    "            print(outputDicomFolder+\" already exist!!\")\n",
    "            continue\n",
    "        if zipfile.is_zipfile(os.path.join(folderOfAllDicoms,fileAndFolder)):\n",
    "            with zipfile.ZipFile(os.path.join(folderOfAllDicoms,fileAndFolder), 'r') as zip_ref:\n",
    "                inputDicomFolder = os.path.join(TempFolders,\"Temp_Extraction\")\n",
    "                if os.path.isdir(inputDicomFolder):\n",
    "                    print(inputDicomFolder+\" already exist!!\")\n",
    "                    shutil.rmtree(inputDicomFolder)         \n",
    "                os.mkdir(inputDicomFolder)\n",
    "                zip_ref.extractall(inputDicomFolder)\n",
    "                \n",
    "    ## make a new folder to store new version of dicom           \n",
    "    os.mkdir(outputDicomFolder)    \n",
    "    \n",
    "    print(\"Start processing \"+fileAndFolder)            \n",
    "    dicomFN = itk.GDCMSeriesFileNames.New()\n",
    "    dicomFN.SetUseSeriesDetails(False) # Use more information to identify individual 3D image\n",
    "    dicomFN.SetInputDirectory(inputDicomFolder)\n",
    "    inputfnames = dicomFN.GetInputFileNames()\n",
    "    dicomFN.SetOutputDirectory(outputDicomFolder)\n",
    "    outputfnames = dicomFN.GetOutputFileNames()\n",
    "                \n",
    "    for inputfname,outputfname in zip(inputfnames,outputfnames):\n",
    "        slicedata = pydicom.dcmread(inputfname)\n",
    "    \n",
    "        # Remove any private tags\n",
    "        slicedata.remove_private_tags()\n",
    "    \n",
    "        numKeys = 0\n",
    "        ## dir(slicedata) contains all tags other than private tags\n",
    "        for key in dir(slicedata):\n",
    "            if re.search(\"__\",key):\n",
    "                break\n",
    "            numKeys +=1\n",
    "\n",
    "        for key in dir(slicedata)[0:numKeys]:\n",
    "            # Only keep the tags listed in key2keep which does not contain patient's private information\n",
    "            if not key in key2keep:\n",
    "                slicedata[key].clear()  ## remove the tag value\n",
    "\n",
    "            # Make sure PatientName has format like WF123000, otherwise delete the PatientName\n",
    "            if key==\"PatientName\":\n",
    "                if not re.match(\"^\\w{2}[0-9]{6}$\",str(slicedata[\"PatientName\"].value)):\n",
    "                    slicedata[\"PatientName\"].clear()\n",
    "\n",
    "            # Make sure PatientID has format like H-123456, otherwise delete the PatientName        \n",
    "            if key==\"PatientID\":\n",
    "                if not re.match(\"^\\w{1}-[0-9]{6}$\",str(slicedata[\"PatientID\"].value)):\n",
    "                    slicedata[\"PatientID\"].clear()\n",
    "\n",
    "        slicedata.save_as(outputfname)\n",
    "    \n",
    "    if re.match(\".*Temp_Extraction$\",inputDicomFolder):\n",
    "        shutil.rmtree(inputDicomFolder)\n",
    "        \n",
    "    print(\"Finish cleaning dicom: \"+ fileAndFolder)"
   ]
  }
 ],
 "metadata": {
  "kernelspec": {
   "display_name": "Python 3",
   "language": "python",
   "name": "python3"
  },
  "language_info": {
   "codemirror_mode": {
    "name": "ipython",
    "version": 3
   },
   "file_extension": ".py",
   "mimetype": "text/x-python",
   "name": "python",
   "nbconvert_exporter": "python",
   "pygments_lexer": "ipython3",
   "version": "3.6.5"
  }
 },
 "nbformat": 4,
 "nbformat_minor": 2
}
