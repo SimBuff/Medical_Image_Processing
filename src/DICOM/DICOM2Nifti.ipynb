{
 "cells": [
  {
   "cell_type": "markdown",
   "metadata": {},
   "source": [
    "### DICOM2Nifti\n",
    "Some dicom files in SPIROMICS were reported to have private information left to be unremoved. The dicom files need to be removed after original files are converted to Nifti format. The code here is used to convert dicom files to nifti files with name tags removed.<br/>\n",
    "\\------------------------------------------------------------------------<br/>\n",
    "Author:   Chunrui Zou<br/>\n",
    "Date:  07/14/2020\n"
   ]
  },
  {
   "cell_type": "code",
   "execution_count": null,
   "metadata": {},
   "outputs": [],
   "source": [
    "## if itk is not installed\n",
    "!pip install itk"
   ]
  },
  {
   "cell_type": "code",
   "execution_count": 103,
   "metadata": {},
   "outputs": [],
   "source": [
    "import itk\n",
    "import numpy as np\n",
    "import os"
   ]
  },
  {
   "cell_type": "code",
   "execution_count": 13,
   "metadata": {},
   "outputs": [
    {
     "data": {
      "text/plain": [
       "'C:\\\\Users\\\\chunr\\\\OneDrive - University of Iowa\\\\SPIROMICS_DICOM2Nifti'"
      ]
     },
     "execution_count": 13,
     "metadata": {},
     "output_type": "execute_result"
    }
   ],
   "source": [
    "os.getcwd()"
   ]
  },
  {
   "cell_type": "code",
   "execution_count": 104,
   "metadata": {},
   "outputs": [],
   "source": [
    "PixelType = itk.ctype(\"short\")\n",
    "image_t = itk.Image[PixelType,3]\n",
    "reader = itk.ImageSeriesReader[image_t].New()\n",
    "dicomIO = itk.GDCMImageIO.New()\n",
    "dicomFN = itk.GDCMSeriesFileNames.New()\n",
    "reader.SetImageIO(dicomIO)"
   ]
  },
  {
   "cell_type": "code",
   "execution_count": 105,
   "metadata": {},
   "outputs": [],
   "source": [
    "dicomFN.SetUseSeriesDetails(True) # Use more information to identify individual 3D image\n",
    "dicomFN.SetDirectory(\"./SampleDicom/unrarred/\")"
   ]
  },
  {
   "cell_type": "code",
   "execution_count": 106,
   "metadata": {},
   "outputs": [],
   "source": [
    "uids = dicomFN.GetSeriesUIDs()\n",
    "fnames = dicomFN.GetFileNames(uids[0])\n",
    "reader.SetFileNames(fnames)\n",
    "reader.Update()\n",
    "image = reader.GetOutput()\n",
    "metad = dicomIO.GetMetaDataDictionary()"
   ]
  },
  {
   "cell_type": "code",
   "execution_count": 169,
   "metadata": {},
   "outputs": [
    {
     "data": {
      "text/plain": [
       "'MetaDataObject (0000021A9C768220)\\n  RTTI typeinfo:   class itk::MetaDataObject<class std::basic_string<char,struct std::char_traits<char>,class std::allocator<char> > >\\n  Reference Count: 5\\n'"
      ]
     },
     "execution_count": 169,
     "metadata": {},
     "output_type": "execute_result"
    }
   ],
   "source": [
    "something=metad.Get('0008|0000')\n"
   ]
  },
  {
   "cell_type": "code",
   "execution_count": 162,
   "metadata": {},
   "outputs": [
    {
     "data": {
      "text/plain": [
       "['Clear',\n",
       " 'Erase',\n",
       " 'Get',\n",
       " 'GetKeys',\n",
       " 'HasKey',\n",
       " 'Print',\n",
       " 'Set',\n",
       " 'Swap',\n",
       " '__class__',\n",
       " '__delattr__',\n",
       " '__dict__',\n",
       " '__dir__',\n",
       " '__doc__',\n",
       " '__eq__',\n",
       " '__format__',\n",
       " '__ge__',\n",
       " '__getattribute__',\n",
       " '__getitem__',\n",
       " '__gt__',\n",
       " '__hash__',\n",
       " '__init__',\n",
       " '__init_subclass__',\n",
       " '__iter__',\n",
       " '__le__',\n",
       " '__len__',\n",
       " '__lt__',\n",
       " '__module__',\n",
       " '__ne__',\n",
       " '__new__',\n",
       " '__reduce__',\n",
       " '__reduce_ex__',\n",
       " '__repr__',\n",
       " '__setattr__',\n",
       " '__setitem__',\n",
       " '__sizeof__',\n",
       " '__str__',\n",
       " '__subclasshook__',\n",
       " '__swig_destroy__',\n",
       " '__weakref__',\n",
       " 'this',\n",
       " 'thisown']"
      ]
     },
     "execution_count": 162,
     "metadata": {},
     "output_type": "execute_result"
    }
   ],
   "source": [
    "dir(metad)"
   ]
  },
  {
   "cell_type": "code",
   "execution_count": null,
   "metadata": {},
   "outputs": [],
   "source": [
    "dicomIO.SetMetaDataDictionary()"
   ]
  },
  {
   "cell_type": "code",
   "execution_count": 160,
   "metadata": {},
   "outputs": [
    {
     "data": {
      "text/plain": [
       "[True, '614']"
      ]
     },
     "execution_count": 160,
     "metadata": {},
     "output_type": "execute_result"
    }
   ],
   "source": [
    "labelId=\"\"\n",
    "dicomIO.GetLabelFromTag('0008|0000',labelId)\n",
    "dicomIO.GetValueFromTag('0008|0000',labelId)"
   ]
  },
  {
   "cell_type": "code",
   "execution_count": 161,
   "metadata": {},
   "outputs": [
    {
     "data": {
      "text/plain": [
       "'614'"
      ]
     },
     "execution_count": 161,
     "metadata": {},
     "output_type": "execute_result"
    }
   ],
   "source": [
    "metad['0008|0000']"
   ]
  },
  {
   "cell_type": "code",
   "execution_count": 129,
   "metadata": {},
   "outputs": [
    {
     "ename": "TypeError",
     "evalue": "in method 'itkMetaDataDictionary_Get', argument 2 of type 'std::string const &'",
     "output_type": "error",
     "traceback": [
      "\u001b[1;31m---------------------------------------------------------------------------\u001b[0m",
      "\u001b[1;31mTypeError\u001b[0m                                 Traceback (most recent call last)",
      "\u001b[1;32m<ipython-input-129-3d9148457232>\u001b[0m in \u001b[0;36m<module>\u001b[1;34m()\u001b[0m\n\u001b[1;32m----> 1\u001b[1;33m \u001b[0mreader\u001b[0m\u001b[1;33m.\u001b[0m\u001b[0mGetMetaDataDictionaryArray\u001b[0m\u001b[1;33m(\u001b[0m\u001b[1;33m)\u001b[0m\u001b[1;33m[\u001b[0m\u001b[1;36m0\u001b[0m\u001b[1;33m]\u001b[0m\u001b[1;33m[\u001b[0m\u001b[1;36m0\u001b[0m\u001b[1;33m]\u001b[0m\u001b[1;33m\u001b[0m\u001b[0m\n\u001b[0m",
      "\u001b[1;32mC:\\ProgramData\\Anaconda3\\lib\\site-packages\\itk\\Configuration\\..\\ITKCommonBasePython.py\u001b[0m in \u001b[0;36m__getitem__\u001b[1;34m(self, key)\u001b[0m\n\u001b[0;32m   1565\u001b[0m     \u001b[1;32mdef\u001b[0m \u001b[0m__getitem__\u001b[0m\u001b[1;33m(\u001b[0m\u001b[0mself\u001b[0m\u001b[1;33m,\u001b[0m\u001b[0mkey\u001b[0m\u001b[1;33m)\u001b[0m\u001b[1;33m:\u001b[0m\u001b[1;33m\u001b[0m\u001b[0m\n\u001b[0;32m   1566\u001b[0m         \u001b[1;32mimport\u001b[0m \u001b[0mitk\u001b[0m\u001b[1;33m\u001b[0m\u001b[0m\n\u001b[1;32m-> 1567\u001b[1;33m         \u001b[0mobj\u001b[0m \u001b[1;33m=\u001b[0m \u001b[0mself\u001b[0m\u001b[1;33m.\u001b[0m\u001b[0mGet\u001b[0m\u001b[1;33m(\u001b[0m\u001b[0mkey\u001b[0m\u001b[1;33m)\u001b[0m\u001b[1;33m\u001b[0m\u001b[0m\n\u001b[0m\u001b[0;32m   1568\u001b[0m         \u001b[1;32mreturn\u001b[0m \u001b[0mitk\u001b[0m\u001b[1;33m.\u001b[0m\u001b[0mdown_cast\u001b[0m\u001b[1;33m(\u001b[0m\u001b[0mobj\u001b[0m\u001b[1;33m)\u001b[0m\u001b[1;33m.\u001b[0m\u001b[0mGetMetaDataObjectValue\u001b[0m\u001b[1;33m(\u001b[0m\u001b[1;33m)\u001b[0m\u001b[1;33m\u001b[0m\u001b[0m\n\u001b[0;32m   1569\u001b[0m     \u001b[1;32mdef\u001b[0m \u001b[0m__len__\u001b[0m\u001b[1;33m(\u001b[0m\u001b[0mself\u001b[0m\u001b[1;33m)\u001b[0m\u001b[1;33m:\u001b[0m\u001b[1;33m\u001b[0m\u001b[0m\n",
      "\u001b[1;31mTypeError\u001b[0m: in method 'itkMetaDataDictionary_Get', argument 2 of type 'std::string const &'"
     ]
    }
   ],
   "source": [
    "reader.GetMetaDataDictionaryArray()"
   ]
  },
  {
   "cell_type": "code",
   "execution_count": 134,
   "metadata": {},
   "outputs": [
    {
     "data": {
      "text/plain": [
       "<itkMetaDataObjectPython.itkMetaDataObjectD; proxy of <Swig Object of type 'itkMetaDataObjectD *' at 0x0000021A82979510> >"
      ]
     },
     "execution_count": 134,
     "metadata": {},
     "output_type": "execute_result"
    }
   ],
   "source": [
    "itk.MetaDataObject.New()"
   ]
  },
  {
   "cell_type": "code",
   "execution_count": null,
   "metadata": {},
   "outputs": [],
   "source": [
    "nifWriter = itk.ImageFileWriter[image_t].New()\n",
    "nifti_io = itk.NiftiImageIO.New()\n",
    "nifWriter.SetFileName(\"test.nii.gz\")\n",
    "nifWriter.SetInput(image)\n",
    "nifWriter.SetImageIO(nifti_io)\n",
    "nifWriter.Update()"
   ]
  },
  {
   "cell_type": "code",
   "execution_count": 108,
   "metadata": {},
   "outputs": [],
   "source": [
    "lab2Keep = ('0008|0000','0008|0008','0008|0012','0008|0013','0008|0020','0008|0021',\n",
    "'0008|0022','0008|0023','0008|0030','0008|0031','0008|0032','0008|0033',\n",
    "'0008|0060','0008|1030','0008|103e','0010|0000','0010|0010','0010|0020',\n",
    "'0018|0000','0018|0050','0020|0000','0020|000d','0020|000e','0028|0000',\n",
    "'0028|0010','0028|0011','0028|0030','0028|0101')\n",
    "#GenericGroupLength,ImageType, InstanceCreationDate, InstanceCreationTime,\n",
    "#StudyDate, SeriesDate,AcquisionDate,ContentDate,StudyTime,SeriesTime,\n",
    "#AcquisionTime,ContentTime,Modality,StudyDescription,SeriesDescription,\n",
    "#GenericGroupLength,PatientName, PatientID,GenericGroupLength,SliceThickness,\n",
    "#GenericGroupLength,StudyInstanceUID,SeriesInstanceUID,GenericGroupLength,\n",
    "#Rows,Columns,PixelSpacing,BitsStored\n",
    "\n",
    "for label in metad.GetKeys():\n",
    "    if label in lab2Keep:\n",
    "        continue\n",
    "    else:\n",
    "        metad.Erase(label)"
   ]
  },
  {
   "cell_type": "code",
   "execution_count": 109,
   "metadata": {},
   "outputs": [],
   "source": [
    "image_2d = itk.Image[PixelType,2]\n",
    "dcmWriter = itk.ImageSeriesWriter[image_t,image_2d].New()\n",
    "dicom_io = itk.GDCMImageIO.New()\n",
    "dcmWriter.SetImageIO(dicom_io)\n",
    "dcmWriter.SetInput(reader.GetOutput())\n",
    "numSlice=reader.GetOutput().GetLargestPossibleRegion().GetSize()[2]\n",
    "fnames = itk.NumericSeriesFileNames.New()\n",
    "fnames.SetSeriesFormat(\"./test2/%d.dcm\")\n",
    "fnames.SetStartIndex(1)\n",
    "fnames.SetEndIndex(numSlice)\n",
    "dcmWriter.SetFileNames(fnames.GetFileNames())\n",
    "#dcmWriter.SetFileName(\"./test.dcm\")\n",
    "#dcmWriter.UseInputMetaDataDictionaryOff()\n",
    "dcmWriter.Update()"
   ]
  },
  {
   "cell_type": "code",
   "execution_count": 124,
   "metadata": {},
   "outputs": [],
   "source": [
    "nameGenerator = itk.GDCMSeriesFileNames.New()\n",
    "nameGenerator.SetUseSeriesDetails(True)\n",
    "nameGenerator.SetMetaDataDictionary(metad)\n",
    "nameGenerator.SetDirectory(\"./test2\")\n",
    "\n",
    "image_2d = itk.Image[PixelType,2]\n",
    "dcmWriter = itk.ImageSeriesWriter[image_t,image_2d].New()\n",
    "dicom_io = itk.GDCMImageIO.New()\n",
    "dcmWriter.SetImageIO(dicom_io)\n",
    "dcmWriter.SetFileNames(nameGenerator.GetOutputFileNames())\n",
    "dcmWriter.SetInput(image)\n",
    "dcmWriter.Update()"
   ]
  },
  {
   "cell_type": "code",
   "execution_count": 125,
   "metadata": {},
   "outputs": [
    {
     "data": {
      "text/plain": [
       "()"
      ]
     },
     "execution_count": 125,
     "metadata": {},
     "output_type": "execute_result"
    }
   ],
   "source": [
    "nameGenerator.GetOutputFileNames()"
   ]
  }
 ],
 "metadata": {
  "kernelspec": {
   "display_name": "Python 3",
   "language": "python",
   "name": "python3"
  },
  "language_info": {
   "codemirror_mode": {
    "name": "ipython",
    "version": 3
   },
   "file_extension": ".py",
   "mimetype": "text/x-python",
   "name": "python",
   "nbconvert_exporter": "python",
   "pygments_lexer": "ipython3",
   "version": "3.6.5"
  }
 },
 "nbformat": 4,
 "nbformat_minor": 2
}
