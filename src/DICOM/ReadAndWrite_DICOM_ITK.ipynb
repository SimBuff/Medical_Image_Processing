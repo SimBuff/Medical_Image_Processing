{
 "cells": [
  {
   "cell_type": "code",
   "execution_count": null,
   "metadata": {},
   "outputs": [],
   "source": [
    "## if itk is not installed\n",
    "!pip install itk"
   ]
  },
  {
   "cell_type": "code",
   "execution_count": 103,
   "metadata": {},
   "outputs": [],
   "source": [
    "import itk\n",
    "import numpy as np\n",
    "import os"
   ]
  },
  {
   "cell_type": "code",
   "execution_count": 13,
   "metadata": {},
   "outputs": [
    {
     "data": {
      "text/plain": [
       "'C:\\\\Users\\\\chunr\\\\OneDrive - University of Iowa\\\\SPIROMICS_DICOM2Nifti'"
      ]
     },
     "execution_count": 13,
     "metadata": {},
     "output_type": "execute_result"
    }
   ],
   "source": [
    "os.getcwd()"
   ]
  },
  {
   "cell_type": "code",
   "execution_count": 104,
   "metadata": {},
   "outputs": [],
   "source": [
    "PixelType = itk.ctype(\"short\")\n",
    "image_t = itk.Image[PixelType,3]\n"
   ]
  },
  {
   "cell_type": "code",
   "execution_count": 105,
   "metadata": {},
   "outputs": [],
   "source": [
    "dicomFN.SetUseSeriesDetails(True) # Use more information to identify individual 3D image\n",
    "dicomFN.SetDirectory(\"./SampleDicom/unrarred/\")"
   ]
  },
  {
   "cell_type": "code",
   "execution_count": null,
   "metadata": {},
   "outputs": [],
   "source": [
    "## Different method to access tag value\n",
    "## -------------------------------------\n",
    "#dicomIO.SetMetaDataDictionary()\n",
    "#metad['0008|0000']\n",
    "#labelId=\"\"\n",
    "#dicomIO.GetLabelFromTag('0008|0000',labelId)\n",
    "#dicomIO.GetValueFromTag('0008|0000',labelId)"
   ]
  },
  {
   "cell_type": "code",
   "execution_count": 108,
   "metadata": {},
   "outputs": [],
   "source": [
    "lab2Keep = ('0008|0000','0008|0008','0008|0012','0008|0013','0008|0020','0008|0021',\n",
    "'0008|0022','0008|0023','0008|0030','0008|0031','0008|0032','0008|0033',\n",
    "'0008|0060','0008|1030','0008|103e','0010|0000','0010|0010','0010|0020',\n",
    "'0018|0000','0018|0050','0020|0000','0020|000d','0020|000e','0028|0000',\n",
    "'0028|0010','0028|0011','0028|0030','0028|0101')\n",
    "#GenericGroupLength,ImageType, InstanceCreationDate, InstanceCreationTime,\n",
    "#StudyDate, SeriesDate,AcquisionDate,ContentDate,StudyTime,SeriesTime,\n",
    "#AcquisionTime,ContentTime,Modality,StudyDescription,SeriesDescription,\n",
    "#GenericGroupLength,PatientName, PatientID,GenericGroupLength,SliceThickness,\n",
    "#GenericGroupLength,StudyInstanceUID,SeriesInstanceUID,GenericGroupLength,\n",
    "#Rows,Columns,PixelSpacing,BitsStored\n",
    "\n",
    "for label in metad.GetKeys():\n",
    "    if label in lab2Keep:\n",
    "        continue\n",
    "    else:\n",
    "        metad.Erase(label)\n",
    "        \n",
    "dicomIO.SetMetaDataDictionary(metad)        \n",
    "nameGenerator = itk.GDCMSeriesFileNames.New()\n",
    "nameGenerator.SetUseSeriesDetails(True)  ## in case there are multiple images in the same series folder\n",
    "nameGenerator.SetMetaDataDictionary(metad)\n",
    "nameGenerator.SetInputDirectory(\"./test2\") ## Using this method, one can use nameGenerator.GetInputFilenames()\n",
    "nameGenerator.GetOutputFileNames()\n",
    "\n",
    "## The code below is not finished and incorrect. The DICOM files could be not be processed as a series using ImageSeriesWriter.\n",
    "## I am not sure if the ImageSeriesReader should be used. Instead, writing DICOM series should use ImageFileReader and SetImageIO.\n",
    "## Refer to \"Reading a 2D DICOM Series and Writing a 2D DICOM Series\" in ITKUserGuide. It reads a 3D DICOM image but writes 2D \n",
    "## series which I don't quites get it. \n",
    "\n",
    "reader = itk.ImageSeriesReader[image_t].New()\n",
    "dicomIO = itk.GDCMImageIO.New()\n",
    "dicomFN = itk.GDCMSeriesFileNames.New()\n",
    "reader.SetImageIO(dicomIO)\n",
    "\n",
    "uids = dicomFN.GetSeriesUIDs()\n",
    "fnames = dicomFN.GetFileNames(uids[0])\n",
    "reader.SetFileNames(fnames)\n",
    "reader.Update()\n",
    "image = reader.GetOutput()\n",
    "metad = dicomIO.GetMetaDataDictionary()\n",
    "\n",
    "image_2d = itk.Image[PixelType,2]\n",
    "dcmWriter = itk.ImageFileWriter[image_2d,image_2d].New() ## ImageSeriesWriter does not work for 3D dicom series writing\n",
    "dicom_io = itk.GDCMImageIO.New()\n",
    "dcmWriter.SetImageIO(dicom_io)\n",
    "\n",
    "\n"
   ]
  },
  {
   "cell_type": "code",
   "execution_count": null,
   "metadata": {},
   "outputs": [],
   "source": [
    "## Write DICOM to nifti format\n",
    "## -------------------------------------\n",
    "#nifWriter = itk.ImageFileWriter[image_t].New()\n",
    "#nifti_io = itk.NiftiImageIO.New()\n",
    "#nifWriter.SetFileName(\"test.nii.gz\")\n",
    "#nifWriter.SetInput(image)\n",
    "#nifWriter.SetImageIO(nifti_io)\n",
    "#nifWriter.Update()"
   ]
  }
 ],
 "metadata": {
  "kernelspec": {
   "display_name": "Python 3",
   "language": "python",
   "name": "python3"
  },
  "language_info": {
   "codemirror_mode": {
    "name": "ipython",
    "version": 3
   },
   "file_extension": ".py",
   "mimetype": "text/x-python",
   "name": "python",
   "nbconvert_exporter": "python",
   "pygments_lexer": "ipython3",
   "version": "3.6.5"
  }
 },
 "nbformat": 4,
 "nbformat_minor": 2
}
